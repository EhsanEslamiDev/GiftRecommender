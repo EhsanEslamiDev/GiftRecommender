{
 "cells": [
  {
   "cell_type": "code",
   "execution_count": null,
   "id": "79f6c442",
   "metadata": {},
   "outputs": [],
   "source": [
    "import os\n",
    "from dotenv import load_dotenv\n",
    "\n",
    "from langchain_openai import ChatOpenAI\n",
    "from langchain_community.embeddings import OpenAIEmbeddings\n",
    "from langchain.schema import Document\n",
    "from langchain_qdrant import QdrantVectorStore\n",
    "\n",
    "import pandas as pd"
   ]
  },
  {
   "cell_type": "code",
   "execution_count": null,
   "id": "2f532f79",
   "metadata": {},
   "outputs": [],
   "source": [
    "load_dotenv()\n",
    "\n",
    "OPENAI_API_KEY = os.getenv(\"OPENAI_API_KEY\")"
   ]
  },
  {
   "cell_type": "code",
   "execution_count": null,
   "id": "40c8865f",
   "metadata": {},
   "outputs": [],
   "source": [
    "def create_qdrant_collection():\n",
    "    qdrant_url = os.getenv(\"QDRANT_URL\")\n",
    "    qdrant_api_key = os.getenv(\"QDRANT_API_KEY\")\n",
    "    csv_path = \"/home/pod/GiftRecommender/database/BigBasketProducts.csv\"\n",
    "    collection_name = \"product_catalog\"\n",
    "\n",
    "    # Load and prepare documents\n",
    "    df = pd.read_csv(csv_path)\n",
    "    df = df.dropna(subset=[\"description\"])\n",
    "    docs = [\n",
    "        Document(page_content=row[\"description\"], metadata=row.to_dict())\n",
    "        for _, row in df.iterrows()\n",
    "    ]\n",
    "\n",
    "    # Initialize embedding model\n",
    "    embedding_model = OpenAIEmbeddings()\n",
    "\n",
    "    # Create or update Qdrant collection\n",
    "    QdrantVectorStore.from_documents(\n",
    "        documents=docs,\n",
    "        embedding=embedding_model,\n",
    "        url=qdrant_url,\n",
    "        api_key=qdrant_api_key,\n",
    "        collection_name=collection_name,\n",
    "        prefer_grpc=False,\n",
    "        batch_size=50,        # optional performance tweak\n",
    "        timeout=3600,  # optional timeout setting\n",
    "    )\n",
    "    print(f\"Collection '{collection_name}' has been (re)created and populated.\")"
   ]
  },
  {
   "cell_type": "code",
   "execution_count": null,
   "id": "5527e0ed",
   "metadata": {},
   "outputs": [],
   "source": [
    "create_qdrant_collection()"
   ]
  }
 ],
 "metadata": {
  "language_info": {
   "name": "python"
  }
 },
 "nbformat": 4,
 "nbformat_minor": 5
}
